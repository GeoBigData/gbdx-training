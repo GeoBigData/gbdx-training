{
 "cells": [
  {
   "cell_type": "markdown",
   "metadata": {},
   "source": [
    "### This short Notebook is intended to demonstrate:\n",
    "\n",
    "- how to execute code in a cell\n",
    "- test your GBDX credentials and/or gbdxtools config file\n",
    "\n",
    "__1. Execute the code in the following cell by first selecting the cell, then pressing the play button in the toolbar above or using the keyboard shortcut SHIFT + ENTER. This block of code simply imports the Python library 'sys' and returns your Python instance.__ "
   ]
  },
  {
   "cell_type": "code",
   "execution_count": null,
   "metadata": {},
   "outputs": [],
   "source": [
    "import sys\n",
    "sys.executable"
   ]
  },
  {
   "cell_type": "markdown",
   "metadata": {},
   "source": [
    "__2. Fill in your your GBDX username and password in the following cell. This information can be found under your Profile information at https://gbdx.geobigdata.io/profile. If you have a GBDX config file, you can uncomment and use the first two lines of code to authenticate into GBDX.__"
   ]
  },
  {
   "cell_type": "code",
   "execution_count": null,
   "metadata": {
    "collapsed": true
   },
   "outputs": [],
   "source": [
    "# from gbdxtools import Interface\n",
    "# gbdx = Interface()\n",
    "\n",
    "import gbdxtools\n",
    "gbdx = gbdxtools.Interface(\n",
    "    username='',\n",
    "    password='')"
   ]
  },
  {
   "cell_type": "markdown",
   "metadata": {},
   "source": [
    "__3. If you've entered your credentials correctly (and config file is formatted correctly if using), executing the following block of code will return your GBDX S3 information.__  "
   ]
  },
  {
   "cell_type": "code",
   "execution_count": null,
   "metadata": {},
   "outputs": [],
   "source": [
    "gbdx.s3.info"
   ]
  },
  {
   "cell_type": "markdown",
   "metadata": {},
   "source": [
    "### If the above command returned your GBDX S3 info, you should be ready to take the GBDX tutorial. "
   ]
  }
 ],
 "metadata": {
  "anaconda-cloud": {},
  "kernelspec": {
   "display_name": "Python [conda env:gbdxtools]",
   "language": "python",
   "name": "conda-env-gbdxtools-py"
  },
  "language_info": {
   "codemirror_mode": {
    "name": "ipython",
    "version": 2
   },
   "file_extension": ".py",
   "mimetype": "text/x-python",
   "name": "python",
   "nbconvert_exporter": "python",
   "pygments_lexer": "ipython2",
   "version": "2.7.13"
  }
 },
 "nbformat": 4,
 "nbformat_minor": 1
}
