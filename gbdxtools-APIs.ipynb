{
 "cells": [
  {
   "cell_type": "markdown",
   "metadata": {
    "nbpresent": {
     "id": "b7721a7e-da27-4348-81ee-2e5c1b0f74e0"
    }
   },
   "source": [
    "*First, initialize the Interface object that handles authentication*"
   ]
  },
  {
   "cell_type": "code",
   "execution_count": null,
   "metadata": {
    "collapsed": true,
    "nbpresent": {
     "id": "eea5f7da-d58a-454c-9d90-d512db58da58"
    }
   },
   "outputs": [],
   "source": [
    "from gbdxtools import Interface\n",
    "gbdx = Interface()"
   ]
  },
  {
   "cell_type": "markdown",
   "metadata": {
    "nbpresent": {
     "id": "6432d41c-9bbd-4319-bca6-7bd46bcd9aa5"
    }
   },
   "source": [
    "Search the catalog by geographic area"
   ]
  },
  {
   "cell_type": "code",
   "execution_count": null,
   "metadata": {
    "collapsed": false,
    "nbpresent": {
     "id": "b54db840-6317-4f60-8aca-2bd1c942972b"
    }
   },
   "outputs": [],
   "source": [
    "wkt_string = \"POLYGON((-122.43434482199342028 47.69012820633496119,-122.24650297391180231 47.6831711008504584,-122.23954586842728531 47.49532925276882622,-122.41347350553991191 47.49532925276882622,-122.43434482199342028 47.69012820633496119))\""
   ]
  },
  {
   "cell_type": "code",
   "execution_count": null,
   "metadata": {
    "collapsed": true,
    "nbpresent": {
     "id": "5c8b75ce-5589-4bad-88c0-e63937dee7e5"
    }
   },
   "outputs": [],
   "source": [
    "results = gbdx.catalog.search(searchAreaWkt=wkt_string)"
   ]
  },
  {
   "cell_type": "code",
   "execution_count": null,
   "metadata": {
    "collapsed": false,
    "nbpresent": {
     "id": "406919f9-5e35-4c28-b89e-47f777b6a379"
    },
    "scrolled": false
   },
   "outputs": [],
   "source": [
    "results[0:10]"
   ]
  },
  {
   "cell_type": "markdown",
   "metadata": {
    "nbpresent": {
     "id": "43c62228-cb8c-4f62-98d5-f6a1b0d6bca1"
    }
   },
   "source": [
    "Filter by date"
   ]
  },
  {
   "cell_type": "code",
   "execution_count": null,
   "metadata": {
    "collapsed": true,
    "nbpresent": {
     "id": "70e776ae-9f33-43a8-9cac-929bfbf1a9df"
    }
   },
   "outputs": [],
   "source": [
    "results = gbdx.catalog.search(searchAreaWkt=wkt_string,\n",
    "                              startDate=\"2015-12-09T00:00:00.000Z\",\n",
    "                              endDate=\"2016-12-09T00:00:00.000Z\")"
   ]
  },
  {
   "cell_type": "code",
   "execution_count": null,
   "metadata": {
    "collapsed": false,
    "nbpresent": {
     "id": "c43c2ebc-0a31-47a6-86ae-b19a97cb493c"
    }
   },
   "outputs": [],
   "source": [
    "results"
   ]
  },
  {
   "cell_type": "markdown",
   "metadata": {
    "nbpresent": {
     "id": "ee36407b-d8b5-4c6f-8d12-b6b36d87d51d"
    }
   },
   "source": [
    "Can specify DigitalGlobe or Landsat sensor"
   ]
  },
  {
   "cell_type": "code",
   "execution_count": null,
   "metadata": {
    "collapsed": false,
    "nbpresent": {
     "id": "b7587fbb-a418-458f-bf3c-3b12d019d329"
    }
   },
   "outputs": [],
   "source": [
    "types = [ \"DigitalGlobeAcquisition\"]\n",
    "results = gbdx.catalog.search(searchAreaWkt=wkt_string,\n",
    "                              startDate=\"2015-12-09T00:00:00.000Z\",\n",
    "                              endDate=\"2016-12-09T00:00:00.000Z\",\n",
    "                              types=types)"
   ]
  },
  {
   "cell_type": "code",
   "execution_count": null,
   "metadata": {
    "collapsed": false,
    "nbpresent": {
     "id": "1852a570-3b26-4ec2-bbc0-3dd2f29c6daa"
    }
   },
   "outputs": [],
   "source": [
    "results"
   ]
  },
  {
   "cell_type": "markdown",
   "metadata": {
    "nbpresent": {
     "id": "908be6fe-5c8f-477f-8ddd-d87b3d0503e3"
    }
   },
   "source": [
    "Filter results by catalog properties"
   ]
  },
  {
   "cell_type": "code",
   "execution_count": null,
   "metadata": {
    "collapsed": true,
    "nbpresent": {
     "id": "1947009c-2ab6-48ff-a6f1-606fd69dafbb"
    }
   },
   "outputs": [],
   "source": [
    "filters = [\n",
    "        \"(sensorPlatformName = 'WORLDVIEW01' OR sensorPlatformName ='WORLDVIEW02')\",\n",
    "        \"cloudCover < 10\",\n",
    "        \"offNadirAngle > 10\"\n",
    "]"
   ]
  },
  {
   "cell_type": "code",
   "execution_count": null,
   "metadata": {
    "collapsed": true,
    "nbpresent": {
     "id": "6d94c6b4-57ee-46ea-8562-7ce86188b31c"
    }
   },
   "outputs": [],
   "source": [
    "results = gbdx.catalog.search(searchAreaWkt=wkt_string,\n",
    "                              startDate=\"2015-12-09T00:00:00.000Z\",\n",
    "                              endDate=\"2016-12-09T00:00:00.000Z\",\n",
    "                              types=types,\n",
    "                              filters=filters)"
   ]
  },
  {
   "cell_type": "code",
   "execution_count": null,
   "metadata": {
    "collapsed": false,
    "nbpresent": {
     "id": "8a575bf2-bd7d-446b-b9b8-776245cd5f66"
    },
    "scrolled": true
   },
   "outputs": [],
   "source": [
    "results"
   ]
  },
  {
   "cell_type": "markdown",
   "metadata": {
    "nbpresent": {
     "id": "5cf881d6-7ac2-4931-a2ea-2e82b794178d"
    }
   },
   "source": [
    "Get metadata Info about a given Catalog ID"
   ]
  },
  {
   "cell_type": "code",
   "execution_count": null,
   "metadata": {
    "collapsed": true,
    "nbpresent": {
     "id": "7134f61b-a7be-4296-b68b-45a24d814913"
    }
   },
   "outputs": [],
   "source": [
    "record = gbdx.catalog.get('1050410011360700')"
   ]
  },
  {
   "cell_type": "code",
   "execution_count": null,
   "metadata": {
    "collapsed": false,
    "nbpresent": {
     "id": "457f4396-10b9-48a4-aa21-52adf1aac6ae"
    }
   },
   "outputs": [],
   "source": [
    "record"
   ]
  },
  {
   "cell_type": "markdown",
   "metadata": {
    "nbpresent": {
     "id": "57d3b720-5dd5-4c48-bb75-481cbd7ab451"
    }
   },
   "source": [
    "Find data location given a Catalog ID"
   ]
  },
  {
   "cell_type": "code",
   "execution_count": null,
   "metadata": {
    "collapsed": true,
    "nbpresent": {
     "id": "9e109b0f-f674-47b2-9ff2-40eef414b6e2"
    }
   },
   "outputs": [],
   "source": [
    "s3path = gbdx.catalog.get_data_location(catalog_id='1030010045539700')"
   ]
  },
  {
   "cell_type": "code",
   "execution_count": null,
   "metadata": {
    "collapsed": false,
    "nbpresent": {
     "id": "e9ca2bde-36b0-49d8-b5e7-22c41eeb37f5"
    }
   },
   "outputs": [],
   "source": [
    "s3path"
   ]
  },
  {
   "cell_type": "markdown",
   "metadata": {
    "collapsed": true,
    "nbpresent": {
     "id": "23f1831e-0b15-4133-8f90-98bbc3266fd0"
    }
   },
   "source": [
    "# Ordering API: Imagery to AWS S3"
   ]
  },
  {
   "cell_type": "code",
   "execution_count": null,
   "metadata": {
    "collapsed": true,
    "nbpresent": {
     "id": "9b4da4bb-5515-4a9a-8954-e48d69ee0da7"
    }
   },
   "outputs": [],
   "source": [
    "cat_ids = ['10400100143FC900']"
   ]
  },
  {
   "cell_type": "code",
   "execution_count": null,
   "metadata": {
    "collapsed": false,
    "nbpresent": {
     "id": "747cda92-2a73-4f91-b90a-200f0d962599"
    }
   },
   "outputs": [],
   "source": [
    "order_id = gbdx.ordering.order(cat_ids)\n",
    "order_status = gbdx.ordering.status(order_id)"
   ]
  },
  {
   "cell_type": "code",
   "execution_count": null,
   "metadata": {
    "collapsed": false,
    "nbpresent": {
     "id": "1e4a21aa-2791-4574-9d2f-060dfe1380b5"
    }
   },
   "outputs": [],
   "source": [
    "order_status"
   ]
  },
  {
   "cell_type": "code",
   "execution_count": null,
   "metadata": {
    "collapsed": true,
    "nbpresent": {
     "id": "f9fadea2-b929-4a46-b1ff-0b3c1e6d5d1d"
    }
   },
   "outputs": [],
   "source": [
    "cat_ids = ['103001005B38CE00', '1040010014816F00']"
   ]
  },
  {
   "cell_type": "code",
   "execution_count": null,
   "metadata": {
    "collapsed": true,
    "nbpresent": {
     "id": "7aa5448b-d92a-4329-8834-a773a0733504"
    }
   },
   "outputs": [],
   "source": [
    "order_id = gbdx.ordering.order(cat_ids)\n",
    "order_status = gbdx.ordering.status(order_id)"
   ]
  },
  {
   "cell_type": "code",
   "execution_count": null,
   "metadata": {
    "collapsed": false,
    "nbpresent": {
     "id": "6e1f2233-105d-4af2-a970-a49f858b8480"
    }
   },
   "outputs": [],
   "source": [
    "order_status"
   ]
  },
  {
   "cell_type": "markdown",
   "metadata": {
    "nbpresent": {
     "id": "bf05694d-036c-4b49-bd18-d2e299afe9b3"
    }
   },
   "source": [
    "# Workflow API: String together tasks and analyses on imagery and other data"
   ]
  },
  {
   "cell_type": "markdown",
   "metadata": {
    "nbpresent": {
     "id": "e2b72145-80ae-4e39-ad91-9e3063ef82dc"
    }
   },
   "source": [
    "### A \"workflow\" is a series of tasks chained together to run on the GBDX platform. Each \"task\" is an individual process that performs a specific action against data, of which the inputs and outputs must be through S3. The outputs of one task are frequently the inputs to another.  "
   ]
  },
  {
   "cell_type": "markdown",
   "metadata": {
    "nbpresent": {
     "id": "00ef9d71-2e79-4b44-8db5-bc9dda3288c5"
    }
   },
   "source": [
    "#### S3 inputs and outputs"
   ]
  },
  {
   "cell_type": "markdown",
   "metadata": {
    "nbpresent": {
     "id": "65c74b98-7692-4aa6-ac74-d28eeecb36f1"
    }
   },
   "source": [
    "Assign the S3 location of input imagery via its Catalog ID metadata"
   ]
  },
  {
   "cell_type": "code",
   "execution_count": null,
   "metadata": {
    "collapsed": true,
    "nbpresent": {
     "id": "b7ca065b-347e-4a9b-ad57-24a889491c52"
    }
   },
   "outputs": [],
   "source": [
    "source_s3 = gbdx.catalog.get_data_location(catalog_id='103001005B38CE00')"
   ]
  },
  {
   "cell_type": "code",
   "execution_count": null,
   "metadata": {
    "collapsed": false,
    "nbpresent": {
     "id": "dc2d6dd0-4b02-4cf0-9c7a-21845ac8bc2d"
    }
   },
   "outputs": [],
   "source": [
    "source_s3"
   ]
  },
  {
   "cell_type": "markdown",
   "metadata": {
    "nbpresent": {
     "id": "b792072e-3545-44e8-83ce-2aacceb39fe0"
    }
   },
   "source": [
    "Assign the output S3 location to the private S3 bucket included with your GBDX account. Access your bucket name and prefix via your S3 credentials"
   ]
  },
  {
   "cell_type": "code",
   "execution_count": null,
   "metadata": {
    "collapsed": false,
    "nbpresent": {
     "id": "3ad7acbc-798f-461b-b88c-27ee7e20116d"
    }
   },
   "outputs": [],
   "source": [
    "s3creds = gbdx.s3.info"
   ]
  },
  {
   "cell_type": "code",
   "execution_count": null,
   "metadata": {
    "collapsed": false,
    "nbpresent": {
     "id": "05c74853-e1d2-4e48-bd76-513c576bada1"
    }
   },
   "outputs": [],
   "source": [
    "s3creds"
   ]
  },
  {
   "cell_type": "code",
   "execution_count": null,
   "metadata": {
    "collapsed": false,
    "nbpresent": {
     "id": "1c070414-c86f-40eb-96fa-d542252e7de1"
    }
   },
   "outputs": [],
   "source": [
    "bucket = s3creds['bucket']\n",
    "prefix = s3creds['prefix']\n",
    "target_s3 = \"s3://\" + bucket + \"/\" + prefix + \"/\" + \"demo_output/\""
   ]
  },
  {
   "cell_type": "code",
   "execution_count": null,
   "metadata": {
    "collapsed": false,
    "nbpresent": {
     "id": "d6f64916-ef8a-4f70-8b17-3e01bcfbeea4"
    }
   },
   "outputs": [],
   "source": [
    "target_s3"
   ]
  },
  {
   "cell_type": "markdown",
   "metadata": {
    "nbpresent": {
     "id": "ea7ee1fc-8951-444c-a401-256df29ef2ec"
    }
   },
   "source": [
    "#### The workflow"
   ]
  },
  {
   "cell_type": "markdown",
   "metadata": {
    "nbpresent": {
     "id": "fa01d540-821d-4143-b0f6-f35e7d9f830d"
    }
   },
   "source": [
    "The recommended first task to assign in any workflow is the Advanced Image Preprocessor Task, which can orthorectify, atmospherically compensate, and/or pansharpen imagery ([documentation here](http://gbdxdocs.digitalglobe.com/docs/advanced-image-preprocessor)) "
   ]
  },
  {
   "cell_type": "code",
   "execution_count": null,
   "metadata": {
    "collapsed": true,
    "nbpresent": {
     "id": "96ca6318-6f95-438a-b8cb-f625cb7e9241"
    }
   },
   "outputs": [],
   "source": [
    "aop_task = aop_task = gbdx.Task('AOP_Strip_Processor', data=source_s3)"
   ]
  },
  {
   "cell_type": "markdown",
   "metadata": {
    "nbpresent": {
     "id": "d2261c9d-e649-410e-bcd7-22a2420d7749"
    }
   },
   "source": [
    "Every workflow must finish with a task that saves the output to a S3 location"
   ]
  },
  {
   "cell_type": "code",
   "execution_count": null,
   "metadata": {
    "collapsed": false,
    "nbpresent": {
     "id": "d1423eaf-19b4-4c73-be8c-d152dd7da117"
    }
   },
   "outputs": [],
   "source": [
    "s3_task = gbdx.Task('StageDataToS3', data=aop_task.outputs.data.value, destination=target_s3)"
   ]
  },
  {
   "cell_type": "markdown",
   "metadata": {
    "nbpresent": {
     "id": "e34b95a9-21e0-46b3-825e-7b31c90c833c"
    }
   },
   "source": [
    "Chain the assigned tasks into a workflow and execute "
   ]
  },
  {
   "cell_type": "code",
   "execution_count": null,
   "metadata": {
    "collapsed": true,
    "nbpresent": {
     "id": "bb77f4cf-e46c-4450-9516-cdd37e67a63e"
    }
   },
   "outputs": [],
   "source": [
    "workflow = gbdx.Workflow([ aop_task, s3_task ])"
   ]
  },
  {
   "cell_type": "code",
   "execution_count": null,
   "metadata": {
    "collapsed": true,
    "nbpresent": {
     "id": "2c9c6d6b-a459-4f3f-8214-99cc51c14ebf"
    }
   },
   "outputs": [],
   "source": [
    "workflow.execute()"
   ]
  },
  {
   "cell_type": "markdown",
   "metadata": {
    "nbpresent": {
     "id": "0681151b-73f1-4779-ad79-e527a33a7693"
    }
   },
   "source": [
    "Track and manage workflows"
   ]
  },
  {
   "cell_type": "code",
   "execution_count": null,
   "metadata": {
    "collapsed": true,
    "nbpresent": {
     "id": "ee34b89e-5cb7-4705-8521-66f5cccfa1e5"
    }
   },
   "outputs": [],
   "source": [
    "workflow.id"
   ]
  },
  {
   "cell_type": "code",
   "execution_count": null,
   "metadata": {
    "collapsed": true,
    "nbpresent": {
     "id": "eb816a1a-6f6f-42a9-a809-5796cd526c94"
    }
   },
   "outputs": [],
   "source": [
    "workflow.status"
   ]
  },
  {
   "cell_type": "code",
   "execution_count": null,
   "metadata": {
    "collapsed": true,
    "nbpresent": {
     "id": "9ce2bd7a-715c-46a4-8aed-6a02edd7af75"
    }
   },
   "outputs": [],
   "source": [
    "workflow.events"
   ]
  },
  {
   "cell_type": "code",
   "execution_count": null,
   "metadata": {
    "collapsed": true,
    "nbpresent": {
     "id": "ed982c1b-ce19-43f9-b376-6ec7a09a3aeb"
    }
   },
   "outputs": [],
   "source": [
    "workflow.cancel()"
   ]
  },
  {
   "cell_type": "markdown",
   "metadata": {
    "nbpresent": {
     "id": "61eda7bc-eed7-4cc5-ab87-ae5a3a06fcbc"
    }
   },
   "source": [
    "#### Putting together a more complex workflow "
   ]
  },
  {
   "cell_type": "markdown",
   "metadata": {
    "nbpresent": {
     "id": "9ab52afe-64fa-4b24-8882-40e2a82a1ba2"
    }
   },
   "source": [
    "Assign the Automated Land Cover Classification task, which in this case requires a prep task to pull just the imagery from the output of the Advanced Image Preprocessor"
   ]
  },
  {
   "cell_type": "code",
   "execution_count": null,
   "metadata": {
    "collapsed": true,
    "nbpresent": {
     "id": "88f1f494-e6e5-4101-8a43-cbd711ac8b59"
    }
   },
   "outputs": [],
   "source": [
    "glue_task = gbdx.Task('gdal-cli', data=aop_task.outputs.data.value, execution_strategy='runonce',\n",
    "                         command=\"\"\"mv $indir/*/*.tif $outdir/\"\"\")"
   ]
  },
  {
   "cell_type": "code",
   "execution_count": null,
   "metadata": {
    "collapsed": false,
    "nbpresent": {
     "id": "0b0060bf-5b73-4ab0-82e5-58658151a466"
    }
   },
   "outputs": [],
   "source": [
    "lulc_task = gbdx.Task(\"protogenV2LULC\", raster=glue_task.outputs.data.value)"
   ]
  },
  {
   "cell_type": "code",
   "execution_count": null,
   "metadata": {
    "collapsed": false,
    "nbpresent": {
     "id": "c25d3347-8e62-4772-a927-6c03955aa056"
    }
   },
   "outputs": [],
   "source": [
    "workflow = gbdx.Workflow([ aop_task, glue_task, lulc_task, s3_task ])"
   ]
  },
  {
   "cell_type": "code",
   "execution_count": null,
   "metadata": {
    "collapsed": true,
    "nbpresent": {
     "id": "dc5ad3d2-0f7e-4634-9693-a44290a1c712"
    }
   },
   "outputs": [],
   "source": [
    "workflow.execute()"
   ]
  },
  {
   "cell_type": "markdown",
   "metadata": {
    "nbpresent": {
     "id": "1a9d588f-0780-42f8-841e-a33c060e4381"
    }
   },
   "source": [
    "#### Get detailed information about task inputs and outputs"
   ]
  },
  {
   "cell_type": "code",
   "execution_count": null,
   "metadata": {
    "collapsed": true,
    "nbpresent": {
     "id": "2eb1deef-1783-4bb4-894d-80e4c706a3fb"
    }
   },
   "outputs": [],
   "source": [
    "task = gbdx.Task(\"AOP_Strip_Processor\")"
   ]
  },
  {
   "cell_type": "code",
   "execution_count": null,
   "metadata": {
    "collapsed": false,
    "nbpresent": {
     "id": "50ec713f-0106-4564-9cd8-a510309fe5b7"
    }
   },
   "outputs": [],
   "source": [
    "task.inputs"
   ]
  },
  {
   "cell_type": "code",
   "execution_count": null,
   "metadata": {
    "collapsed": false,
    "nbpresent": {
     "id": "bb29757b-6ce3-41ca-9c9c-78c4ad0a9831"
    }
   },
   "outputs": [],
   "source": [
    "task.inputs.enable_acomp"
   ]
  },
  {
   "cell_type": "code",
   "execution_count": null,
   "metadata": {
    "collapsed": false,
    "nbpresent": {
     "id": "e8c86c87-b9d5-463c-9eeb-a14c10c6ed77"
    }
   },
   "outputs": [],
   "source": [
    "task.outputs"
   ]
  },
  {
   "cell_type": "code",
   "execution_count": null,
   "metadata": {
    "collapsed": false,
    "nbpresent": {
     "id": "4e1c862c-0972-44d8-9a6c-e955abc57998"
    }
   },
   "outputs": [],
   "source": [
    "task.outputs.data"
   ]
  },
  {
   "cell_type": "markdown",
   "metadata": {
    "nbpresent": {
     "id": "e68ce612-227f-4cd6-a6c7-f63fbea37e05"
    }
   },
   "source": [
    "#### Task Registery API"
   ]
  },
  {
   "cell_type": "markdown",
   "metadata": {
    "nbpresent": {
     "id": "d8bd41ae-3bad-46f9-94ce-aa897a55444f"
    }
   },
   "source": [
    "Register a task onto GBDX, first navigate to the directory with the JSON task definition"
   ]
  },
  {
   "cell_type": "code",
   "execution_count": null,
   "metadata": {
    "collapsed": true,
    "nbpresent": {
     "id": "096f1544-ac6c-4de7-815d-aa5a9beb32bb"
    }
   },
   "outputs": [],
   "source": [
    "gbdx.task_registry.register(json_filename = 'hello-gbdx-definition.json')"
   ]
  },
  {
   "cell_type": "markdown",
   "metadata": {
    "nbpresent": {
     "id": "d5e4c776-ffe5-4692-90de-9f587d59042b"
    }
   },
   "source": [
    "Delete your task from GBDX"
   ]
  },
  {
   "cell_type": "code",
   "execution_count": null,
   "metadata": {
    "collapsed": true,
    "nbpresent": {
     "id": "672562b5-444e-4b41-a006-a933044a9931"
    }
   },
   "outputs": [],
   "source": [
    "gbdx.task_registry.delete(<task-name>)"
   ]
  }
 ],
 "metadata": {
  "anaconda-cloud": {},
  "kernelspec": {
   "display_name": "Python [default]",
   "language": "python",
   "name": "python2"
  },
  "language_info": {
   "codemirror_mode": {
    "name": "ipython",
    "version": 2
   },
   "file_extension": ".py",
   "mimetype": "text/x-python",
   "name": "python",
   "nbconvert_exporter": "python",
   "pygments_lexer": "ipython2",
   "version": "2.7.12"
  },
  "nbpresent": {
   "slides": {
    "9208e874-c6ae-4644-a337-14318b82306a": {
     "id": "9208e874-c6ae-4644-a337-14318b82306a",
     "layout": "treemap",
     "prev": null,
     "regions": {
      "46d5e71a-43f9-466c-8a6e-fa1990773125": {
       "attrs": {
        "height": 1,
        "pad": 0.01,
        "treemap:weight": 3.8,
        "width": 1,
        "x": 0,
        "y": 0
       },
       "content": {
        "cell": "b7721a7e-da27-4348-81ee-2e5c1b0f74e0",
        "part": "whole"
       },
       "id": "46d5e71a-43f9-466c-8a6e-fa1990773125"
      }
     }
    },
    "febf44cb-85df-4ca8-8ead-4eace1b1d11e": {
     "id": "febf44cb-85df-4ca8-8ead-4eace1b1d11e",
     "prev": "9208e874-c6ae-4644-a337-14318b82306a",
     "regions": {
      "11fb263f-91cd-4b15-9207-84f97fcb6224": {
       "attrs": {
        "height": 1,
        "width": 1,
        "x": 0,
        "y": 0
       },
       "content": {
        "cell": "eea5f7da-d58a-454c-9d90-d512db58da58",
        "part": "whole"
       },
       "id": "11fb263f-91cd-4b15-9207-84f97fcb6224"
      }
     }
    }
   },
   "themes": {}
  }
 },
 "nbformat": 4,
 "nbformat_minor": 1
}
