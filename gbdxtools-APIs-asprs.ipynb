{
 "cells": [
  {
   "cell_type": "markdown",
   "metadata": {
    "nbpresent": {
     "id": "b7721a7e-da27-4348-81ee-2e5c1b0f74e0"
    }
   },
   "source": [
    "## A Few Set Up Steps\n",
    "\n",
    "- First, we import a few libraries \n",
    "\n",
    " - sys, because we want to check that we have the right python instance \n",
    "\n",
    " - json, because we want to be able to look at the output easily"
   ]
  },
  {
   "cell_type": "code",
   "execution_count": null,
   "metadata": {
    "collapsed": false,
    "scrolled": true
   },
   "outputs": [],
   "source": [
    "import sys\n",
    "import json\n",
    "print (sys.executable)\n",
    "# print (sys.version)"
   ]
  },
  {
   "cell_type": "markdown",
   "metadata": {},
   "source": [
    "- Next, we import GBDXTools and provide that library our credentials\n",
    " - Note, this is well documented here: http://gbdxtools.readthedocs.io/en/latest/ \n",
    " - Also note that the credentials are available here: https://gbdx.geobigdata.io/ "
   ]
  },
  {
   "cell_type": "code",
   "execution_count": null,
   "metadata": {
    "collapsed": false,
    "nbpresent": {
     "id": "eea5f7da-d58a-454c-9d90-d512db58da58"
    },
    "scrolled": false
   },
   "outputs": [],
   "source": [
    "import gbdxtools\n",
    "gbdx = gbdxtools.Interface(\n",
    "    username='',\n",
    "    password='',\n",
    "    client_id='',\n",
    "    client_secret='')\n",
    "\n",
    "# We use the JSON library to print the GBDX Tools object, which has some useful information \n",
    "print json.dumps(gbdx.s3.info, sort_keys=True, indent=4, separators=(',', ': '))"
   ]
  },
  {
   "cell_type": "markdown",
   "metadata": {},
   "source": [
    "- Now we can test to make sure that GBDXTOols is working and we have access to the API\n",
    " - If everything worked, you should see a list of tasks that can be run on GBDX"
   ]
  },
  {
   "cell_type": "code",
   "execution_count": null,
   "metadata": {
    "collapsed": false,
    "scrolled": true
   },
   "outputs": [],
   "source": [
    "# Use GBDXTools to get the list of tasks \n",
    "raw_task_list = gbdx.gbdx_connection.get(\"https://geobigdata.io/workflows/v1/tasks\")\n",
    "\n",
    "# The text needs to be converted to JSON for access and display\n",
    "task_list = raw_task_list.json()\n",
    "\n",
    "print json.dumps(task_list, sort_keys=True, indent=4, separators=(',', ': '))"
   ]
  },
  {
   "cell_type": "markdown",
   "metadata": {
    "nbpresent": {
     "id": "6432d41c-9bbd-4319-bca6-7bd46bcd9aa5"
    }
   },
   "source": [
    "## Search the catalog\n",
    "\n",
    "- We will walk through this in a few steps\n",
    "\n",
    "- First, we will search using a geographic area (note that this is the same one we used earlier...)"
   ]
  },
  {
   "cell_type": "code",
   "execution_count": null,
   "metadata": {
    "collapsed": false,
    "nbpresent": {
     "id": "b54db840-6317-4f60-8aca-2bd1c942972b"
    }
   },
   "outputs": [],
   "source": [
    "wkt_string = \"POLYGON((151.247484595670215 -33.956915138583831, 151.247484595670215 -33.941147704639356, 151.266492160171651 -33.941147704639356, 151.266492160171651 -33.956915138583831,151.247484595670215 -33.956915138583831))\""
   ]
  },
  {
   "cell_type": "code",
   "execution_count": null,
   "metadata": {
    "collapsed": false,
    "nbpresent": {
     "id": "5c8b75ce-5589-4bad-88c0-e63937dee7e5"
    }
   },
   "outputs": [],
   "source": [
    "results = gbdx.catalog.search(searchAreaWkt=wkt_string)"
   ]
  },
  {
   "cell_type": "code",
   "execution_count": null,
   "metadata": {
    "collapsed": false,
    "nbpresent": {
     "id": "406919f9-5e35-4c28-b89e-47f777b6a379"
    }
   },
   "outputs": [],
   "source": [
    "print len(results)\n",
    "# print json.dumps(results[0:10], sort_keys=True, indent=4, separators=(',', ': '))\n",
    "\n"
   ]
  },
  {
   "cell_type": "markdown",
   "metadata": {
    "nbpresent": {
     "id": "43c62228-cb8c-4f62-98d5-f6a1b0d6bca1"
    }
   },
   "source": [
    "- Now we filter by the date range"
   ]
  },
  {
   "cell_type": "code",
   "execution_count": null,
   "metadata": {
    "collapsed": true,
    "nbpresent": {
     "id": "70e776ae-9f33-43a8-9cac-929bfbf1a9df"
    }
   },
   "outputs": [],
   "source": [
    "results = gbdx.catalog.search(searchAreaWkt=wkt_string,\n",
    "                              startDate=\"2016-09-08T00:00:00.000Z\",\n",
    "                              endDate=\"2017-03-08T23:59:59.999Z\")"
   ]
  },
  {
   "cell_type": "code",
   "execution_count": null,
   "metadata": {
    "collapsed": false,
    "nbpresent": {
     "id": "c43c2ebc-0a31-47a6-86ae-b19a97cb493c"
    }
   },
   "outputs": [],
   "source": [
    "print len(results)\n",
    "# print json.dumps(results, sort_keys=True, indent=4, separators=(',', ': '))"
   ]
  },
  {
   "cell_type": "markdown",
   "metadata": {
    "nbpresent": {
     "id": "ee36407b-d8b5-4c6f-8d12-b6b36d87d51d"
    }
   },
   "source": [
    "- Last, we filter by the image metadata\n",
    " - At this point, we have the same filters we specified earlier in the web interface"
   ]
  },
  {
   "cell_type": "code",
   "execution_count": null,
   "metadata": {
    "collapsed": false,
    "nbpresent": {
     "id": "b7587fbb-a418-458f-bf3c-3b12d019d329"
    }
   },
   "outputs": [],
   "source": [
    "filters = [\n",
    "        \"cloudCover < 10\",\n",
    "        \"offNadirAngle < 15\",\n",
    "        \"imageBands = 'Pan_MS1_MS2'\"\n",
    "]\n",
    "\n",
    "results = gbdx.catalog.search(searchAreaWkt=wkt_string,\n",
    "                              startDate=\"2016-09-08T00:00:00.000Z\",\n",
    "                              endDate=\"2017-03-08T23:59:59.999Z\",\n",
    "                              filters=filters)"
   ]
  },
  {
   "cell_type": "code",
   "execution_count": null,
   "metadata": {
    "collapsed": false,
    "nbpresent": {
     "id": "1852a570-3b26-4ec2-bbc0-3dd2f29c6daa"
    },
    "scrolled": false
   },
   "outputs": [],
   "source": [
    "# print len(results)\n",
    "print json.dumps(results, sort_keys=True, indent=4, separators=(',', ': '))"
   ]
  },
  {
   "cell_type": "markdown",
   "metadata": {
    "nbpresent": {
     "id": "5cf881d6-7ac2-4931-a2ea-2e82b794178d"
    }
   },
   "source": [
    "- Now that we have an image, we can get the full metadata using the CatID"
   ]
  },
  {
   "cell_type": "code",
   "execution_count": null,
   "metadata": {
    "collapsed": false,
    "nbpresent": {
     "id": "7134f61b-a7be-4296-b68b-45a24d814913"
    }
   },
   "outputs": [],
   "source": [
    "record = gbdx.catalog.get('10400100245B7800')"
   ]
  },
  {
   "cell_type": "code",
   "execution_count": null,
   "metadata": {
    "collapsed": false,
    "nbpresent": {
     "id": "457f4396-10b9-48a4-aa21-52adf1aac6ae"
    }
   },
   "outputs": [],
   "source": [
    "print json.dumps(record, sort_keys=True, indent=4, separators=(',', ': '))"
   ]
  },
  {
   "cell_type": "markdown",
   "metadata": {
    "nbpresent": {
     "id": "57d3b720-5dd5-4c48-bb75-481cbd7ab451"
    }
   },
   "source": [
    "- One important piece of information is the location of the image on S3"
   ]
  },
  {
   "cell_type": "code",
   "execution_count": null,
   "metadata": {
    "collapsed": true,
    "nbpresent": {
     "id": "9e109b0f-f674-47b2-9ff2-40eef414b6e2"
    }
   },
   "outputs": [],
   "source": [
    "s3path = gbdx.catalog.get_data_location(catalog_id='10400100245B7800')"
   ]
  },
  {
   "cell_type": "code",
   "execution_count": null,
   "metadata": {
    "collapsed": false,
    "nbpresent": {
     "id": "e9ca2bde-36b0-49d8-b5e7-22c41eeb37f5"
    }
   },
   "outputs": [],
   "source": [
    "print s3path"
   ]
  },
  {
   "cell_type": "markdown",
   "metadata": {
    "collapsed": true,
    "nbpresent": {
     "id": "23f1831e-0b15-4133-8f90-98bbc3266fd0"
    }
   },
   "source": [
    "## Ordering API: Imagery to AWS S3\n",
    "\n",
    "It is important to consider whether the image is available for processing on S3. If not, it has to be ordered."
   ]
  },
  {
   "cell_type": "code",
   "execution_count": null,
   "metadata": {
    "collapsed": true,
    "nbpresent": {
     "id": "9b4da4bb-5515-4a9a-8954-e48d69ee0da7"
    }
   },
   "outputs": [],
   "source": [
    "cat_ids = ['10400100245B7800']"
   ]
  },
  {
   "cell_type": "markdown",
   "metadata": {},
   "source": [
    "- Let's check the status of this CatID"
   ]
  },
  {
   "cell_type": "code",
   "execution_count": null,
   "metadata": {
    "collapsed": false,
    "nbpresent": {
     "id": "747cda92-2a73-4f91-b90a-200f0d962599"
    }
   },
   "outputs": [],
   "source": [
    "order_id = gbdx.ordering.order(cat_ids)\n",
    "order_status = gbdx.ordering.status(order_id)"
   ]
  },
  {
   "cell_type": "code",
   "execution_count": null,
   "metadata": {
    "collapsed": false,
    "nbpresent": {
     "id": "1e4a21aa-2791-4574-9d2f-060dfe1380b5"
    },
    "scrolled": true
   },
   "outputs": [],
   "source": [
    "print json.dumps(order_status, sort_keys=True, indent=4, separators=(',', ': '))"
   ]
  },
  {
   "cell_type": "markdown",
   "metadata": {},
   "source": [
    "- We can see above that this image is delivered, which means it is available on S3"
   ]
  },
  {
   "cell_type": "markdown",
   "metadata": {
    "nbpresent": {
     "id": "1a9d588f-0780-42f8-841e-a33c060e4381"
    }
   },
   "source": [
    "## Get detailed information about task inputs and outputs"
   ]
  },
  {
   "cell_type": "code",
   "execution_count": null,
   "metadata": {
    "collapsed": false,
    "nbpresent": {
     "id": "2eb1deef-1783-4bb4-894d-80e4c706a3fb"
    }
   },
   "outputs": [],
   "source": [
    "task = gbdx.Task(\"AOP_Strip_Processor\")\n",
    "print json.dumps(task.definition, sort_keys=True, indent=4, separators=(',', ': '))"
   ]
  },
  {
   "cell_type": "code",
   "execution_count": null,
   "metadata": {
    "collapsed": false,
    "nbpresent": {
     "id": "50ec713f-0106-4564-9cd8-a510309fe5b7"
    },
    "scrolled": false
   },
   "outputs": [],
   "source": [
    "print task.inputs"
   ]
  },
  {
   "cell_type": "code",
   "execution_count": null,
   "metadata": {
    "collapsed": false,
    "nbpresent": {
     "id": "bb29757b-6ce3-41ca-9c9c-78c4ad0a9831"
    },
    "scrolled": false
   },
   "outputs": [],
   "source": [
    "task.inputs.enable_acomp"
   ]
  },
  {
   "cell_type": "code",
   "execution_count": null,
   "metadata": {
    "collapsed": false,
    "nbpresent": {
     "id": "e8c86c87-b9d5-463c-9eeb-a14c10c6ed77"
    }
   },
   "outputs": [],
   "source": [
    "task.outputs"
   ]
  },
  {
   "cell_type": "code",
   "execution_count": null,
   "metadata": {
    "collapsed": false,
    "nbpresent": {
     "id": "4e1c862c-0972-44d8-9a6c-e955abc57998"
    }
   },
   "outputs": [],
   "source": [
    "task.outputs.data"
   ]
  },
  {
   "cell_type": "markdown",
   "metadata": {
    "nbpresent": {
     "id": "bf05694d-036c-4b49-bd18-d2e299afe9b3"
    }
   },
   "source": [
    "## Creating a Workflow to run a Task"
   ]
  },
  {
   "cell_type": "markdown",
   "metadata": {
    "nbpresent": {
     "id": "e2b72145-80ae-4e39-ad91-9e3063ef82dc"
    }
   },
   "source": [
    "- A \"workflow\" is a series of tasks chained together to run on the GBDX platform. \n",
    "- Each \"task\" is an individual process that performs a specific action against data, of which the inputs and outputs must be through S3. \n",
    "- The outputs of one task are frequently the inputs to another.  "
   ]
  },
  {
   "cell_type": "markdown",
   "metadata": {
    "nbpresent": {
     "id": "00ef9d71-2e79-4b44-8db5-bc9dda3288c5"
    }
   },
   "source": [
    "### S3 inputs and outputs"
   ]
  },
  {
   "cell_type": "markdown",
   "metadata": {
    "nbpresent": {
     "id": "65c74b98-7692-4aa6-ac74-d28eeecb36f1"
    }
   },
   "source": [
    "- Assign the S3 location of input imagery via its Catalog ID metadata that we obtained previously "
   ]
  },
  {
   "cell_type": "code",
   "execution_count": null,
   "metadata": {
    "collapsed": false,
    "nbpresent": {
     "id": "b7ca065b-347e-4a9b-ad57-24a889491c52"
    },
    "scrolled": true
   },
   "outputs": [],
   "source": [
    "print s3path"
   ]
  },
  {
   "cell_type": "markdown",
   "metadata": {},
   "source": [
    "- We can use this location as the input for our task\n",
    "- We also set the output location as the subdirectory of our bucket where we want the results to be sent."
   ]
  },
  {
   "cell_type": "code",
   "execution_count": null,
   "metadata": {
    "collapsed": false,
    "nbpresent": {
     "id": "dc2d6dd0-4b02-4cf0-9c7a-21845ac8bc2d"
    }
   },
   "outputs": [],
   "source": [
    "source_s3 = \"s3://receiving-dgcs-tdgplatform-com/056244928010_01_003\""
   ]
  },
  {
   "cell_type": "code",
   "execution_count": null,
   "metadata": {
    "collapsed": false,
    "nbpresent": {
     "id": "1c070414-c86f-40eb-96fa-d542252e7de1"
    }
   },
   "outputs": [],
   "source": [
    "target_s3 = \"gbdx_training_gbdxtools/10400100245B7800/acomped\""
   ]
  },
  {
   "cell_type": "markdown",
   "metadata": {
    "nbpresent": {
     "id": "ea7ee1fc-8951-444c-a401-256df29ef2ec"
    }
   },
   "source": [
    "### Defining The workflow tasks"
   ]
  },
  {
   "cell_type": "markdown",
   "metadata": {
    "nbpresent": {
     "id": "fa01d540-821d-4143-b0f6-f35e7d9f830d"
    }
   },
   "source": [
    "- The recommended first task to assign in any workflow is the Advanced Image Preprocessor Task, which can orthorectify, atmospherically compensate, and/or pansharpen imagery \n",
    " - ([documentation here](http://gbdxdocs.digitalglobe.com/docs/advanced-image-preprocessor)) "
   ]
  },
  {
   "cell_type": "code",
   "execution_count": null,
   "metadata": {
    "collapsed": true,
    "nbpresent": {
     "id": "96ca6318-6f95-438a-b8cb-f625cb7e9241"
    }
   },
   "outputs": [],
   "source": [
    "aoptask = gbdx.Task(\"AOP_Strip_Processor\", data=source_s3, enable_acomp=True, enable_pansharpen=False, enable_dra=False)\n",
    "workflow = gbdx.Workflow([ aoptask ])"
   ]
  },
  {
   "cell_type": "markdown",
   "metadata": {
    "nbpresent": {
     "id": "d2261c9d-e649-410e-bcd7-22a2420d7749"
    }
   },
   "source": [
    "- We can ensure that the output is sent to our S3 bucket by specifying the savedata parameter"
   ]
  },
  {
   "cell_type": "code",
   "execution_count": null,
   "metadata": {
    "collapsed": false,
    "nbpresent": {
     "id": "d1423eaf-19b4-4c73-be8c-d152dd7da117"
    }
   },
   "outputs": [],
   "source": [
    "workflow.savedata(aoptask.outputs.data, location=target_s3)"
   ]
  },
  {
   "cell_type": "markdown",
   "metadata": {
    "nbpresent": {
     "id": "e34b95a9-21e0-46b3-825e-7b31c90c833c"
    }
   },
   "source": [
    "- The final step is to add the task to the workflow and execute"
   ]
  },
  {
   "cell_type": "code",
   "execution_count": null,
   "metadata": {
    "collapsed": false
   },
   "outputs": [],
   "source": [
    "wf_def = workflow.generate_workflow_description()\n",
    "print json.dumps(wf_def, sort_keys=True, indent=4, separators=(',', ': '))"
   ]
  },
  {
   "cell_type": "code",
   "execution_count": null,
   "metadata": {
    "collapsed": false,
    "nbpresent": {
     "id": "2c9c6d6b-a459-4f3f-8214-99cc51c14ebf"
    }
   },
   "outputs": [],
   "source": [
    "workflow.execute()"
   ]
  },
  {
   "cell_type": "markdown",
   "metadata": {
    "nbpresent": {
     "id": "0681151b-73f1-4779-ad79-e527a33a7693"
    }
   },
   "source": [
    "- We can use the workflow id to track and manage workflows"
   ]
  },
  {
   "cell_type": "code",
   "execution_count": null,
   "metadata": {
    "collapsed": false,
    "nbpresent": {
     "id": "ee34b89e-5cb7-4705-8521-66f5cccfa1e5"
    }
   },
   "outputs": [],
   "source": [
    "print workflow.id"
   ]
  },
  {
   "cell_type": "markdown",
   "metadata": {},
   "source": [
    "- Tracking the status for example"
   ]
  },
  {
   "cell_type": "code",
   "execution_count": null,
   "metadata": {
    "collapsed": false,
    "nbpresent": {
     "id": "eb816a1a-6f6f-42a9-a809-5796cd526c94"
    },
    "scrolled": false
   },
   "outputs": [],
   "source": [
    "print json.dumps(workflow.status, sort_keys=True, indent=4, separators=(',', ': '))"
   ]
  },
  {
   "cell_type": "markdown",
   "metadata": {},
   "source": [
    "- Detailed status is available as the workflow events"
   ]
  },
  {
   "cell_type": "code",
   "execution_count": null,
   "metadata": {
    "collapsed": false,
    "nbpresent": {
     "id": "9ce2bd7a-715c-46a4-8aed-6a02edd7af75"
    }
   },
   "outputs": [],
   "source": [
    "print json.dumps(workflow.events, sort_keys=True, indent=4, separators=(',', ': '))"
   ]
  },
  {
   "cell_type": "markdown",
   "metadata": {},
   "source": [
    "## Creating a more complex Workflow by Chaining Multiple Tasks Together"
   ]
  },
  {
   "cell_type": "markdown",
   "metadata": {},
   "source": [
    "- Let's say we want to clip the raster once we have pre-processed it\n",
    " - Note, this will not actually run as the cliptask hasn't been created yet..."
   ]
  },
  {
   "cell_type": "code",
   "execution_count": null,
   "metadata": {
    "collapsed": true
   },
   "outputs": [],
   "source": [
    "some_shp_file = \"s3://gbd-customer-data/6bb1a2e6-7941-4307-8739-349dc22e7f41/a_shape_file\"\n",
    "target_s3_2 = \"gbdx_training_gbdxtools/10400100245B7800/acomped_and_clipped\""
   ]
  },
  {
   "cell_type": "code",
   "execution_count": null,
   "metadata": {
    "collapsed": true
   },
   "outputs": [],
   "source": [
    "aoptask = gbdx.Task(\"AOP_Strip_Processor\", data=source_s3, enable_acomp=True, enable_pansharpen=False, enable_dra=False)"
   ]
  },
  {
   "cell_type": "code",
   "execution_count": null,
   "metadata": {
    "collapsed": true
   },
   "outputs": [],
   "source": [
    "glue_task = gbdx.Task('gdal-cli', data=aoptask.outputs.data.value, execution_strategy='runonce',\n",
    "                         command=\"\"\"mv $indir/*/*.tif $outdir/\"\"\")"
   ]
  },
  {
   "cell_type": "code",
   "execution_count": null,
   "metadata": {
    "collapsed": false,
    "scrolled": true
   },
   "outputs": [],
   "source": [
    "cliptask = gbdx.Task('clip_raster_djg', input_image=glue_task.outputs.data.value, input_shapefile=some_shp_file)"
   ]
  },
  {
   "cell_type": "code",
   "execution_count": null,
   "metadata": {
    "collapsed": true
   },
   "outputs": [],
   "source": [
    "workflow_2 = gbdx.Workflow([ aoptask, glue_task, cliptask ])"
   ]
  },
  {
   "cell_type": "code",
   "execution_count": null,
   "metadata": {
    "collapsed": false
   },
   "outputs": [],
   "source": [
    "workflow_2.savedata(cliptask.outputs.data_out, location=target_s3_2)"
   ]
  },
  {
   "cell_type": "code",
   "execution_count": null,
   "metadata": {
    "collapsed": true
   },
   "outputs": [],
   "source": [
    "wf_def = workflow_2.generate_workflow_description()\n",
    "print json.dumps(wf_def, sort_keys=True, indent=4, separators=(',', ': '))"
   ]
  },
  {
   "cell_type": "code",
   "execution_count": null,
   "metadata": {
    "collapsed": false
   },
   "outputs": [],
   "source": [
    "workflow_2.execute()"
   ]
  },
  {
   "cell_type": "code",
   "execution_count": null,
   "metadata": {
    "collapsed": false,
    "scrolled": true
   },
   "outputs": [],
   "source": [
    "print json.dumps(workflow_2.status, sort_keys=True, indent=4, separators=(',', ': '))"
   ]
  },
  {
   "cell_type": "code",
   "execution_count": null,
   "metadata": {
    "collapsed": false
   },
   "outputs": [],
   "source": [
    "print json.dumps(workflow_2.events, sort_keys=True, indent=4, separators=(',', ': '))"
   ]
  },
  {
   "cell_type": "code",
   "execution_count": null,
   "metadata": {
    "collapsed": true
   },
   "outputs": [],
   "source": []
  }
 ],
 "metadata": {
  "anaconda-cloud": {},
  "kernelspec": {
   "display_name": "Python 2",
   "language": "python",
   "name": "python2"
  },
  "language_info": {
   "codemirror_mode": {
    "name": "ipython",
    "version": 2
   },
   "file_extension": ".py",
   "mimetype": "text/x-python",
   "name": "python",
   "nbconvert_exporter": "python",
   "pygments_lexer": "ipython2",
   "version": "2.7.12"
  },
  "nbpresent": {
   "slides": {
    "9208e874-c6ae-4644-a337-14318b82306a": {
     "id": "9208e874-c6ae-4644-a337-14318b82306a",
     "layout": "treemap",
     "prev": null,
     "regions": {
      "46d5e71a-43f9-466c-8a6e-fa1990773125": {
       "attrs": {
        "height": 1,
        "pad": 0.01,
        "treemap:weight": 3.8,
        "width": 1,
        "x": 0,
        "y": 0
       },
       "content": {
        "cell": "b7721a7e-da27-4348-81ee-2e5c1b0f74e0",
        "part": "whole"
       },
       "id": "46d5e71a-43f9-466c-8a6e-fa1990773125"
      }
     }
    },
    "febf44cb-85df-4ca8-8ead-4eace1b1d11e": {
     "id": "febf44cb-85df-4ca8-8ead-4eace1b1d11e",
     "prev": "9208e874-c6ae-4644-a337-14318b82306a",
     "regions": {
      "11fb263f-91cd-4b15-9207-84f97fcb6224": {
       "attrs": {
        "height": 1,
        "width": 1,
        "x": 0,
        "y": 0
       },
       "content": {
        "cell": "eea5f7da-d58a-454c-9d90-d512db58da58",
        "part": "whole"
       },
       "id": "11fb263f-91cd-4b15-9207-84f97fcb6224"
      }
     }
    }
   },
   "themes": {}
  }
 },
 "nbformat": 4,
 "nbformat_minor": 1
}
